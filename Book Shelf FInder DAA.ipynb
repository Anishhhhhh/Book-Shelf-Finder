{
 "cells": [
  {
   "cell_type": "code",
   "execution_count": 3,
   "id": "ca568a38-0956-45e4-a31e-18ab053bf673",
   "metadata": {},
   "outputs": [
    {
     "name": "stdout",
     "output_type": "stream",
     "text": [
      "Book 'Dune' found in genre 'Science Fiction'.\n"
     ]
    }
   ],
   "source": [
    "library = {\n",
    "    \"Fiction\": {\n",
    "        \"Mystery\": [\"The Hound of the Baskervilles\", \"Gone Girl\", \"The Girl with the Dragon Tattoo\"],\n",
    "        \"Science Fiction\": [\"Dune\", \"Neuromancer\", \"The Left Hand of Darkness\"]\n",
    "    },\n",
    "    \"Non-Fiction\": {\n",
    "        \"History\": [\"Sapiens\", \"Guns, Germs, and Steel\", \"A People's History of the United States\"],\n",
    "        \"Science\": [\"A Brief History of Time\", \"The Selfish Gene\", \"The Elegant Universe\"]\n",
    "    }\n",
    "}\n",
    "\n",
    "def find_book(library_section, book_title):\n",
    "    for genre, books in library_section.items():\n",
    "        if book_title.lower() in (book.lower() for book in books):\n",
    "            return f\"Book '{book_title}' found in genre '{genre}'.\"\n",
    "    return f\"Book '{book_title}' not found in the given section.\"\n",
    "\n",
    "def search_library(library, section_name, book_title):\n",
    "    if section_name in library:\n",
    "        if library[section_name]: \n",
    "            return find_book(library[section_name], book_title)\n",
    "        else:\n",
    "            return f\"Section '{section_name}' is empty.\"\n",
    "    else:\n",
    "        return f\"Section '{section_name}' not found in the library.\"\n",
    "\n",
    "book_title = \"Dune\"\n",
    "section_name = \"Fiction\"\n",
    "\n",
    "result = search_library(library, section_name, book_title)\n",
    "print(result)"
   ]
  },
  {
   "cell_type": "code",
   "execution_count": null,
   "id": "37ceee0f-8ec8-4f49-bb6b-9df4bf70de01",
   "metadata": {},
   "outputs": [],
   "source": []
  }
 ],
 "metadata": {
  "kernelspec": {
   "display_name": "Python 3 (ipykernel)",
   "language": "python",
   "name": "python3"
  },
  "language_info": {
   "codemirror_mode": {
    "name": "ipython",
    "version": 3
   },
   "file_extension": ".py",
   "mimetype": "text/x-python",
   "name": "python",
   "nbconvert_exporter": "python",
   "pygments_lexer": "ipython3",
   "version": "3.12.4"
  }
 },
 "nbformat": 4,
 "nbformat_minor": 5
}
